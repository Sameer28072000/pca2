{
 "cells": [
  {
   "cell_type": "markdown",
   "id": "b2fdabdf-f4fd-481a-9e49-b95e373d679e",
   "metadata": {},
   "source": [
    "Q1. What is a projection and how is it used in PCA?"
   ]
  },
  {
   "cell_type": "code",
   "execution_count": null,
   "id": "4cc0e88f-740c-449c-b188-16c2281325a1",
   "metadata": {},
   "outputs": [],
   "source": [
    "Ans:-Projection is nothing but mapping the data from high dimension to low dimension.\n",
    "      By reducing the dimensionality through projection onto a lower-dimensional .\n",
    "      PCA aim to give max spread & variance."
   ]
  },
  {
   "cell_type": "markdown",
   "id": "84dc7866-c002-4cd9-8ba8-a5231d309781",
   "metadata": {},
   "source": [
    "Q2. How does the optimization problem in PCA work, and what is it trying to achieve?"
   ]
  },
  {
   "cell_type": "code",
   "execution_count": null,
   "id": "17a58ed5-e364-41ae-8521-d9732f782a67",
   "metadata": {},
   "outputs": [],
   "source": [
    "Ans:-The optimization problem in PCA to find the max spread & variance of the data.\n",
    "      The optimization problem in PCA :-\n",
    "        i.compute covariance matrix\n",
    "          ii.compute Eigen value & vector\n",
    "            iii.project data into the PCA"
   ]
  },
  {
   "cell_type": "markdown",
   "id": "3542d907-d83b-4635-a880-bc4a7f213d22",
   "metadata": {},
   "source": [
    "Q3. What is the relationship between covariance matrices and PCA?"
   ]
  },
  {
   "cell_type": "code",
   "execution_count": null,
   "id": "df9f69dd-a8cc-4177-bfec-f4184360a143",
   "metadata": {},
   "outputs": [],
   "source": [
    "Ans:-covariance matrices provides information about relantionship & variance between the different dimension of the data.\n",
    "      PCA is to reduce dimension from high to low dimension(3D-2D).\n",
    "       principal component captures the direction of maximum variance."
   ]
  },
  {
   "cell_type": "markdown",
   "id": "4c4e9e8b-a082-40bc-bc8d-56f605991bb7",
   "metadata": {},
   "source": [
    "Q4. How does the choice of number of principal components impact the performance of PCA?"
   ]
  },
  {
   "cell_type": "code",
   "execution_count": null,
   "id": "4bd2adb5-5953-4d9c-bb3e-e8dcbf5b1be8",
   "metadata": {},
   "outputs": [],
   "source": [
    "Ans:-The choice of number of principal components\n",
    "      i.explained variance\n",
    "       ii.dimenstionality reduction\n",
    "        iii.overfitting\n",
    "          iv.complexity"
   ]
  },
  {
   "cell_type": "markdown",
   "id": "fae70682-0615-4ffc-9b1b-03d0f603ae97",
   "metadata": {},
   "source": [
    "Q5. How can PCA be used in feature selection, and what are the benefits of using it for this purpose?"
   ]
  },
  {
   "cell_type": "code",
   "execution_count": null,
   "id": "cb01e06f-3efe-4078-a5ba-e52b44d8f015",
   "metadata": {},
   "outputs": [],
   "source": [
    "Ans:-PCA be used in feature selection\n",
    "      i.Dimenstionality reduction\n",
    "        ii.flexibility in feature selection\n",
    "          iii.independence of feature\n",
    "            \n",
    "            These benefits make PCA a valuable approach for feature selection in machine learning and data analysis.\n",
    "       "
   ]
  },
  {
   "cell_type": "markdown",
   "id": "5b1fc7b6-c1d7-44da-8943-ac1e51b92d3a",
   "metadata": {},
   "source": [
    "Q6. What are some common applications of PCA in data science and machine learning?"
   ]
  },
  {
   "cell_type": "code",
   "execution_count": null,
   "id": "942b3bb4-1ead-40eb-bed5-e896931ad1b5",
   "metadata": {},
   "outputs": [],
   "source": [
    "Ans:-The common applications of PCA in data science and machine learning:-\n",
    "       i.Dimenstinality reduction\n",
    "         ii.feature extraction\n",
    "           iii.Data preprocessing\n",
    "            iv.Anamoly detection\n",
    "            \n",
    "             few examples of the many applications of PCA in data science and machine learning."
   ]
  },
  {
   "cell_type": "markdown",
   "id": "6f882272-02fd-4edf-a9b8-44211e8c972b",
   "metadata": {},
   "source": [
    "Q7.What is the relationship between spread and variance in PCA?"
   ]
  },
  {
   "cell_type": "code",
   "execution_count": null,
   "id": "849b33e6-0e4f-452b-865d-08cd34e60825",
   "metadata": {},
   "outputs": [],
   "source": [
    "Ans:- The spread of the data is measured by the variance along each principal component.\n",
    "         Spread: Spread refers to how the data points are distributed or scattered in the dataset.\n",
    "        Variance: Variance is a statistical measure that quantifies the dispersion of a set of the data."
   ]
  },
  {
   "cell_type": "markdown",
   "id": "89486666-56ea-43d3-8d27-cdef21b826ea",
   "metadata": {},
   "source": [
    "Q8. How does PCA use the spread and variance of the data to identify principal components?"
   ]
  },
  {
   "cell_type": "code",
   "execution_count": null,
   "id": "408f54e2-1be3-4cd4-ad02-366825741ec2",
   "metadata": {},
   "outputs": [],
   "source": [
    "Ans:-PCA use the spread and variance of the data:-\n",
    "      i.satandardization\n",
    "       ii.covariance matrix\n",
    "        iii.sorting eigen values\n",
    "          iv.selecting PCA"
   ]
  },
  {
   "cell_type": "markdown",
   "id": "96d565ba-71ae-4ff6-93c7-fa189ff25c3c",
   "metadata": {},
   "source": [
    "Q9. How does PCA handle data with high variance in some dimensions but low variance in others?"
   ]
  },
  {
   "cell_type": "code",
   "execution_count": null,
   "id": "f7106545-5b49-4fbc-89df-d5b91fccac72",
   "metadata": {},
   "outputs": [],
   "source": [
    "Ans:-"
   ]
  }
 ],
 "metadata": {
  "kernelspec": {
   "display_name": "Python 3 (ipykernel)",
   "language": "python",
   "name": "python3"
  },
  "language_info": {
   "codemirror_mode": {
    "name": "ipython",
    "version": 3
   },
   "file_extension": ".py",
   "mimetype": "text/x-python",
   "name": "python",
   "nbconvert_exporter": "python",
   "pygments_lexer": "ipython3",
   "version": "3.10.8"
  }
 },
 "nbformat": 4,
 "nbformat_minor": 5
}
